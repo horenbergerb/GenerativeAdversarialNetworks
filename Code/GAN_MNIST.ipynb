{
  "nbformat": 4,
  "nbformat_minor": 0,
  "metadata": {
    "colab": {
      "name": "Copy of GAN.ipynb",
      "provenance": []
    },
    "kernelspec": {
      "name": "python3",
      "display_name": "Python 3"
    },
    "language_info": {
      "name": "python"
    },
    "accelerator": "GPU"
  },
  "cells": [
    {
      "cell_type": "code",
      "metadata": {
        "id": "tqsfmzliL-tU"
      },
      "source": [
        "import torchvision.transforms as transforms\n",
        "import torch.optim as optim\n",
        "import torchvision.datasets as datasets\n",
        "import imageio\n",
        "import numpy as np\n",
        "import matplotlib\n",
        "\n",
        "from torchvision.utils import make_grid, save_image\n",
        "from torch.utils.data import DataLoader\n",
        "from matplotlib import pyplot as plt\n",
        "from tqdm import tqdm\n",
        "\n",
        "matplotlib.style.use('ggplot')"
      ],
      "execution_count": null,
      "outputs": []
    },
    {
      "cell_type": "code",
      "metadata": {
        "id": "J1RldWABPZEI"
      },
      "source": [
        "# config\n",
        "batch_size = 512\n",
        "epochs = 200\n",
        "sample_size = 64 # fixed sample size\n",
        "nz = 128 # latent vector size\n",
        "k = 1 # number of steps to apply to the discriminator\n",
        "device = torch.device('cuda' if torch.cuda.is_available() else 'cpu')"
      ],
      "execution_count": null,
      "outputs": []
    },
    {
      "cell_type": "code",
      "metadata": {
        "id": "qjpiaknFPd5f"
      },
      "source": [
        "# transformation to turn images into normalized tensors\n",
        "transform = transforms.Compose([transforms.ToTensor(), transforms.Normalize((0.5),(0.5)),])"
      ],
      "execution_count": null,
      "outputs": []
    },
    {
      "cell_type": "code",
      "metadata": {
        "id": "Dspx4X0OPxNs"
      },
      "source": [
        "# loading the training data\n",
        "train_data = datasets.MNIST(\n",
        "    root='../input/data',\n",
        "    train=True,\n",
        "    download=True,\n",
        "    transform=transform\n",
        ")\n",
        "\n",
        "# preparing a dataloader which will create batches and shuffle the data\n",
        "train_loader = DataLoader(train_data, batch_size = batch_size, shuffle=True)"
      ],
      "execution_count": null,
      "outputs": []
    },
    {
      "cell_type": "code",
      "metadata": {
        "id": "ilKOKkbpQKZH"
      },
      "source": [
        "class Generator(nn.Module):\n",
        "    def __init__(self, nz):\n",
        "        super(Generator, self).__init__()\n",
        "        self.nz = nz\n",
        "        self.main = nn.Sequential(\n",
        "            nn.Linear(self.nz, 256),\n",
        "            nn.LeakyReLU(0.2),\n",
        "\n",
        "            nn.Linear(256, 512),\n",
        "            nn.LeakyReLU(0.2),\n",
        "\n",
        "            nn.Linear(512, 1024),\n",
        "            nn.LeakyReLU(0.2),\n",
        "            \n",
        "            nn.Linear(1024, 784),\n",
        "            nn.Tanh(),\n",
        "        )\n",
        "\n",
        "    def forward(self, x):\n",
        "        return self.main(x).view(-1, 1, 28, 28)"
      ],
      "execution_count": null,
      "outputs": []
    },
    {
      "cell_type": "code",
      "metadata": {
        "id": "KOwJwRzYQKgY"
      },
      "source": [
        "class Discriminator(nn.Module):\n",
        "    def __init__(self):\n",
        "        super(Discriminator, self).__init__()\n",
        "        self.n_input = 784\n",
        "        self.main = nn.Sequential(\n",
        "            nn.Linear(self.n_input, 1024),\n",
        "            nn.LeakyReLU(0.2),\n",
        "            nn.Dropout(0.3),\n",
        "\n",
        "            nn.Linear(1024, 512),\n",
        "            nn.LeakyReLU(0.2),\n",
        "            nn.Dropout(0.3),\n",
        "\n",
        "            nn.Linear(512, 256),\n",
        "            nn.LeakyReLU(0.2),\n",
        "            nn.Dropout(0.3),\n",
        "\n",
        "            nn.Linear(256, 1),\n",
        "            nn.Sigmoid(),\n",
        "        )\n",
        "        \n",
        "    def forward(self, x):\n",
        "        x = x.view(-1, 784)\n",
        "        return self.main(x)"
      ],
      "execution_count": null,
      "outputs": []
    },
    {
      "cell_type": "code",
      "metadata": {
        "id": "TFdbeBxETDoi"
      },
      "source": [
        "generator = Generator(nz).to(device)\n",
        "discriminator = Discriminator().to(device)"
      ],
      "execution_count": null,
      "outputs": []
    },
    {
      "cell_type": "code",
      "metadata": {
        "id": "KuG9Yx3dQq0H"
      },
      "source": [
        "# optimizers\n",
        "optim_g = optim.Adam(generator.parameters(), lr=0.0002)\n",
        "optim_d = optim.Adam(discriminator.parameters(), lr=0.0002)"
      ],
      "execution_count": null,
      "outputs": []
    },
    {
      "cell_type": "code",
      "metadata": {
        "id": "sUMkHZZeQsvx"
      },
      "source": [
        "# loss function\n",
        "criterion = nn.BCELoss()"
      ],
      "execution_count": null,
      "outputs": []
    },
    {
      "cell_type": "code",
      "metadata": {
        "id": "PyFkCog1QuZk"
      },
      "source": [
        "losses_g = [] # to store generator loss after each epoch\n",
        "losses_d = [] # to store discriminator loss after each epoch"
      ],
      "execution_count": null,
      "outputs": []
    },
    {
      "cell_type": "code",
      "metadata": {
        "id": "NRN8iRmoQym9"
      },
      "source": [
        "# to create real labels (1s)\n",
        "def label_real(size):\n",
        "    data = torch.ones(size, 1)\n",
        "    return data.to(device)\n",
        "    \n",
        "# to create fake labels (0s)\n",
        "def label_fake(size):\n",
        "    data = torch.zeros(size, 1)\n",
        "    return data.to(device)"
      ],
      "execution_count": null,
      "outputs": []
    },
    {
      "cell_type": "code",
      "metadata": {
        "id": "p1jdvX0gQ4xX"
      },
      "source": [
        "# function to train the discriminator network\n",
        "def train_discriminator(optimizer, data_real, data_fake):\n",
        "    b_size = data_real.size(0)\n",
        "    real_label = label_real(b_size)\n",
        "    fake_label = label_fake(b_size)\n",
        "    optimizer.zero_grad()\n",
        "    output_real = discriminator(data_real)\n",
        "    loss_real = criterion(output_real, real_label)\n",
        "    output_fake = discriminator(data_fake)\n",
        "    loss_fake = criterion(output_fake, fake_label)\n",
        "    loss_real.backward()\n",
        "    loss_fake.backward()\n",
        "    optimizer.step()\n",
        "    return loss_real + loss_fake"
      ],
      "execution_count": null,
      "outputs": []
    },
    {
      "cell_type": "code",
      "metadata": {
        "id": "DitVGhY0Q8Cr"
      },
      "source": [
        "# function to train the generator network\n",
        "def train_generator(optimizer, data_fake):\n",
        "    b_size = data_fake.size(0)\n",
        "    real_label = label_real(b_size)\n",
        "    optimizer.zero_grad()\n",
        "    output = discriminator(data_fake)\n",
        "    loss = criterion(output, real_label)\n",
        "    loss.backward()\n",
        "    optimizer.step()\n",
        "    return loss"
      ],
      "execution_count": null,
      "outputs": []
    },
    {
      "cell_type": "code",
      "metadata": {
        "id": "DqtBkNXKWGL6"
      },
      "source": [
        "reference_noise = torch.randn(64, nz).to(device)"
      ],
      "execution_count": null,
      "outputs": []
    },
    {
      "cell_type": "code",
      "metadata": {
        "colab": {
          "base_uri": "https://localhost:8080/"
        },
        "id": "65vC8lIxRfuR",
        "outputId": "5564dd25-a551-41b4-badb-34fe96b103c4"
      },
      "source": [
        "for epoch in range(epochs):\n",
        "    loss_g = 0.0\n",
        "    loss_d = 0.0\n",
        "    for bi, data in tqdm(enumerate(train_loader), total=int(len(train_data)/train_loader.batch_size)):\n",
        "        image, _ = data\n",
        "        image = image.to(device)\n",
        "        b_size = len(image)\n",
        "        # run the discriminator for k number of steps\n",
        "        for step in range(k):\n",
        "            data_fake = generator(torch.randn(b_size, nz).to(device)).detach()\n",
        "            data_real = image\n",
        "            # train the discriminator network\n",
        "            loss_d += train_discriminator(optim_d, data_real, data_fake)\n",
        "        data_fake = generator(torch.randn(b_size, nz).to(device))\n",
        "        # train the generator network\n",
        "        loss_g += train_generator(optim_g, data_fake)\n",
        "    epoch_loss_g = loss_g / bi # total generator loss for the epoch\n",
        "    epoch_loss_d = loss_d / bi # total discriminator loss for the epoch\n",
        "    losses_g.append(epoch_loss_g)\n",
        "    losses_d.append(epoch_loss_d)\n",
        "\n",
        "    #saving a reference image\n",
        "    results = generator(reference_noise).detach()\n",
        "    results = make_grid(results)\n",
        "    save_image(results, f\"outputs/result_{epoch}.png\")\n",
        "    \n",
        "    print(f\"Epoch {epoch} of {epochs}\")\n",
        "    print(f\"Generator loss: {epoch_loss_g:.8f}, Discriminator loss: {epoch_loss_d:.8f}\")"
      ],
      "execution_count": null,
      "outputs": [
        {
          "output_type": "stream",
          "text": [
            "118it [00:08, 14.17it/s]                         \n",
            "  2%|▏         | 2/117 [00:00<00:08, 13.98it/s]"
          ],
          "name": "stderr"
        },
        {
          "output_type": "stream",
          "text": [
            "Epoch 0 of 200\n",
            "Generator loss: 1.42442477, Discriminator loss: 0.86571866\n"
          ],
          "name": "stdout"
        },
        {
          "output_type": "stream",
          "text": [
            "118it [00:08, 13.83it/s]                         \n",
            "  2%|▏         | 2/117 [00:00<00:08, 13.39it/s]"
          ],
          "name": "stderr"
        },
        {
          "output_type": "stream",
          "text": [
            "Epoch 1 of 200\n",
            "Generator loss: 3.57096720, Discriminator loss: 1.37092888\n"
          ],
          "name": "stdout"
        },
        {
          "output_type": "stream",
          "text": [
            "118it [00:08, 13.64it/s]                         \n",
            "  2%|▏         | 2/117 [00:00<00:08, 14.03it/s]"
          ],
          "name": "stderr"
        },
        {
          "output_type": "stream",
          "text": [
            "Epoch 2 of 200\n",
            "Generator loss: 5.29755831, Discriminator loss: 0.20741506\n"
          ],
          "name": "stdout"
        },
        {
          "output_type": "stream",
          "text": [
            "118it [00:08, 13.81it/s]\n",
            "  2%|▏         | 2/117 [00:00<00:10, 11.48it/s]"
          ],
          "name": "stderr"
        },
        {
          "output_type": "stream",
          "text": [
            "Epoch 3 of 200\n",
            "Generator loss: 4.80780745, Discriminator loss: 0.68609846\n"
          ],
          "name": "stdout"
        },
        {
          "output_type": "stream",
          "text": [
            "118it [00:08, 14.17it/s]                         \n",
            "  2%|▏         | 2/117 [00:00<00:08, 12.86it/s]"
          ],
          "name": "stderr"
        },
        {
          "output_type": "stream",
          "text": [
            "Epoch 4 of 200\n",
            "Generator loss: 1.61440957, Discriminator loss: 1.53813970\n"
          ],
          "name": "stdout"
        },
        {
          "output_type": "stream",
          "text": [
            "118it [00:08, 13.95it/s]                         \n",
            "  2%|▏         | 2/117 [00:00<00:10, 10.99it/s]"
          ],
          "name": "stderr"
        },
        {
          "output_type": "stream",
          "text": [
            "Epoch 5 of 200\n",
            "Generator loss: 1.31593168, Discriminator loss: 0.85550755\n"
          ],
          "name": "stdout"
        },
        {
          "output_type": "stream",
          "text": [
            "118it [00:08, 13.52it/s]                         \n",
            "  2%|▏         | 2/117 [00:00<00:07, 14.84it/s]"
          ],
          "name": "stderr"
        },
        {
          "output_type": "stream",
          "text": [
            "Epoch 6 of 200\n",
            "Generator loss: 1.16451097, Discriminator loss: 1.17993951\n"
          ],
          "name": "stdout"
        },
        {
          "output_type": "stream",
          "text": [
            "118it [00:08, 13.77it/s]                         \n",
            "  2%|▏         | 2/117 [00:00<00:07, 14.62it/s]"
          ],
          "name": "stderr"
        },
        {
          "output_type": "stream",
          "text": [
            "Epoch 7 of 200\n",
            "Generator loss: 1.31297839, Discriminator loss: 1.31026042\n"
          ],
          "name": "stdout"
        },
        {
          "output_type": "stream",
          "text": [
            "118it [00:08, 13.85it/s]                         \n",
            "  2%|▏         | 2/117 [00:00<00:08, 14.34it/s]"
          ],
          "name": "stderr"
        },
        {
          "output_type": "stream",
          "text": [
            "Epoch 8 of 200\n",
            "Generator loss: 1.08141029, Discriminator loss: 1.00448394\n"
          ],
          "name": "stdout"
        },
        {
          "output_type": "stream",
          "text": [
            "118it [00:08, 13.66it/s]                         \n",
            "  2%|▏         | 2/117 [00:00<00:08, 14.19it/s]"
          ],
          "name": "stderr"
        },
        {
          "output_type": "stream",
          "text": [
            "Epoch 9 of 200\n",
            "Generator loss: 1.82053089, Discriminator loss: 0.74978060\n"
          ],
          "name": "stdout"
        },
        {
          "output_type": "stream",
          "text": [
            "118it [00:08, 13.85it/s]\n",
            "  2%|▏         | 2/117 [00:00<00:09, 12.35it/s]"
          ],
          "name": "stderr"
        },
        {
          "output_type": "stream",
          "text": [
            "Epoch 10 of 200\n",
            "Generator loss: 2.28765869, Discriminator loss: 0.76769924\n"
          ],
          "name": "stdout"
        },
        {
          "output_type": "stream",
          "text": [
            "118it [00:08, 13.85it/s]                         \n",
            "  2%|▏         | 2/117 [00:00<00:08, 13.93it/s]"
          ],
          "name": "stderr"
        },
        {
          "output_type": "stream",
          "text": [
            "Epoch 11 of 200\n",
            "Generator loss: 2.61448669, Discriminator loss: 0.57060426\n"
          ],
          "name": "stdout"
        },
        {
          "output_type": "stream",
          "text": [
            "118it [00:08, 13.75it/s]                         \n",
            "  2%|▏         | 2/117 [00:00<00:08, 13.32it/s]"
          ],
          "name": "stderr"
        },
        {
          "output_type": "stream",
          "text": [
            "Epoch 12 of 200\n",
            "Generator loss: 2.33175230, Discriminator loss: 0.52568245\n"
          ],
          "name": "stdout"
        },
        {
          "output_type": "stream",
          "text": [
            "118it [00:08, 13.91it/s]                         \n",
            "  2%|▏         | 2/117 [00:00<00:08, 14.20it/s]"
          ],
          "name": "stderr"
        },
        {
          "output_type": "stream",
          "text": [
            "Epoch 13 of 200\n",
            "Generator loss: 2.59337473, Discriminator loss: 0.54664588\n"
          ],
          "name": "stdout"
        },
        {
          "output_type": "stream",
          "text": [
            "118it [00:08, 13.90it/s]                         \n",
            "  2%|▏         | 2/117 [00:00<00:07, 14.55it/s]"
          ],
          "name": "stderr"
        },
        {
          "output_type": "stream",
          "text": [
            "Epoch 14 of 200\n",
            "Generator loss: 3.24932384, Discriminator loss: 0.33079821\n"
          ],
          "name": "stdout"
        },
        {
          "output_type": "stream",
          "text": [
            "118it [00:08, 14.19it/s]                         \n",
            "  2%|▏         | 2/117 [00:00<00:08, 13.98it/s]"
          ],
          "name": "stderr"
        },
        {
          "output_type": "stream",
          "text": [
            "Epoch 15 of 200\n",
            "Generator loss: 4.01342821, Discriminator loss: 0.29507285\n"
          ],
          "name": "stdout"
        },
        {
          "output_type": "stream",
          "text": [
            "118it [00:08, 14.40it/s]                         \n",
            "  2%|▏         | 2/117 [00:00<00:07, 15.04it/s]"
          ],
          "name": "stderr"
        },
        {
          "output_type": "stream",
          "text": [
            "Epoch 16 of 200\n",
            "Generator loss: 3.47220492, Discriminator loss: 0.37751743\n"
          ],
          "name": "stdout"
        },
        {
          "output_type": "stream",
          "text": [
            "118it [00:08, 13.80it/s]                         \n",
            "  2%|▏         | 2/117 [00:00<00:08, 13.70it/s]"
          ],
          "name": "stderr"
        },
        {
          "output_type": "stream",
          "text": [
            "Epoch 17 of 200\n",
            "Generator loss: 3.82071638, Discriminator loss: 0.40605232\n"
          ],
          "name": "stdout"
        },
        {
          "output_type": "stream",
          "text": [
            "118it [00:08, 13.65it/s]                         \n",
            "  2%|▏         | 2/117 [00:00<00:07, 15.05it/s]"
          ],
          "name": "stderr"
        },
        {
          "output_type": "stream",
          "text": [
            "Epoch 18 of 200\n",
            "Generator loss: 3.55273986, Discriminator loss: 0.47184172\n"
          ],
          "name": "stdout"
        },
        {
          "output_type": "stream",
          "text": [
            "118it [00:08, 13.89it/s]                         \n",
            "  2%|▏         | 2/117 [00:00<00:08, 14.20it/s]"
          ],
          "name": "stderr"
        },
        {
          "output_type": "stream",
          "text": [
            "Epoch 19 of 200\n",
            "Generator loss: 3.64362741, Discriminator loss: 0.33881232\n"
          ],
          "name": "stdout"
        },
        {
          "output_type": "stream",
          "text": [
            "118it [00:08, 14.04it/s]\n",
            "  1%|          | 1/117 [00:00<00:12,  9.52it/s]"
          ],
          "name": "stderr"
        },
        {
          "output_type": "stream",
          "text": [
            "Epoch 20 of 200\n",
            "Generator loss: 4.35147667, Discriminator loss: 0.46406037\n"
          ],
          "name": "stdout"
        },
        {
          "output_type": "stream",
          "text": [
            "118it [00:08, 14.00it/s]                         \n",
            "  2%|▏         | 2/117 [00:00<00:08, 12.83it/s]"
          ],
          "name": "stderr"
        },
        {
          "output_type": "stream",
          "text": [
            "Epoch 21 of 200\n",
            "Generator loss: 2.95342088, Discriminator loss: 0.49545133\n"
          ],
          "name": "stdout"
        },
        {
          "output_type": "stream",
          "text": [
            "118it [00:08, 13.62it/s]                         \n",
            "  2%|▏         | 2/117 [00:00<00:07, 14.44it/s]"
          ],
          "name": "stderr"
        },
        {
          "output_type": "stream",
          "text": [
            "Epoch 22 of 200\n",
            "Generator loss: 3.45922780, Discriminator loss: 0.38143167\n"
          ],
          "name": "stdout"
        },
        {
          "output_type": "stream",
          "text": [
            "118it [00:08, 13.75it/s]                         \n",
            "  2%|▏         | 2/117 [00:00<00:08, 13.05it/s]"
          ],
          "name": "stderr"
        },
        {
          "output_type": "stream",
          "text": [
            "Epoch 23 of 200\n",
            "Generator loss: 3.47973275, Discriminator loss: 0.41729754\n"
          ],
          "name": "stdout"
        },
        {
          "output_type": "stream",
          "text": [
            "118it [00:08, 13.99it/s]\n",
            "  2%|▏         | 2/117 [00:00<00:08, 13.80it/s]"
          ],
          "name": "stderr"
        },
        {
          "output_type": "stream",
          "text": [
            "Epoch 24 of 200\n",
            "Generator loss: 3.77269840, Discriminator loss: 0.41200751\n"
          ],
          "name": "stdout"
        },
        {
          "output_type": "stream",
          "text": [
            "118it [00:08, 13.82it/s]                         \n",
            "  2%|▏         | 2/117 [00:00<00:07, 14.68it/s]"
          ],
          "name": "stderr"
        },
        {
          "output_type": "stream",
          "text": [
            "Epoch 25 of 200\n",
            "Generator loss: 3.55094385, Discriminator loss: 0.42408803\n"
          ],
          "name": "stdout"
        },
        {
          "output_type": "stream",
          "text": [
            "118it [00:08, 13.78it/s]\n",
            "  2%|▏         | 2/117 [00:00<00:07, 14.40it/s]"
          ],
          "name": "stderr"
        },
        {
          "output_type": "stream",
          "text": [
            "Epoch 26 of 200\n",
            "Generator loss: 3.54373312, Discriminator loss: 0.40248621\n"
          ],
          "name": "stdout"
        },
        {
          "output_type": "stream",
          "text": [
            "118it [00:08, 14.03it/s]                         \n",
            "  2%|▏         | 2/117 [00:00<00:08, 14.07it/s]"
          ],
          "name": "stderr"
        },
        {
          "output_type": "stream",
          "text": [
            "Epoch 27 of 200\n",
            "Generator loss: 3.43979764, Discriminator loss: 0.37997812\n"
          ],
          "name": "stdout"
        },
        {
          "output_type": "stream",
          "text": [
            "118it [00:08, 13.24it/s]                         \n",
            "  2%|▏         | 2/117 [00:00<00:08, 13.71it/s]"
          ],
          "name": "stderr"
        },
        {
          "output_type": "stream",
          "text": [
            "Epoch 28 of 200\n",
            "Generator loss: 3.51785374, Discriminator loss: 0.42030013\n"
          ],
          "name": "stdout"
        },
        {
          "output_type": "stream",
          "text": [
            "118it [00:08, 14.38it/s]                         \n",
            "  2%|▏         | 2/117 [00:00<00:07, 14.84it/s]"
          ],
          "name": "stderr"
        },
        {
          "output_type": "stream",
          "text": [
            "Epoch 29 of 200\n",
            "Generator loss: 3.57866883, Discriminator loss: 0.42638335\n"
          ],
          "name": "stdout"
        },
        {
          "output_type": "stream",
          "text": [
            "118it [00:08, 14.21it/s]\n",
            "  1%|          | 1/117 [00:00<00:15,  7.38it/s]"
          ],
          "name": "stderr"
        },
        {
          "output_type": "stream",
          "text": [
            "Epoch 30 of 200\n",
            "Generator loss: 3.06062818, Discriminator loss: 0.50034022\n"
          ],
          "name": "stdout"
        },
        {
          "output_type": "stream",
          "text": [
            "118it [00:08, 13.56it/s]                         \n",
            "  2%|▏         | 2/117 [00:00<00:08, 13.41it/s]"
          ],
          "name": "stderr"
        },
        {
          "output_type": "stream",
          "text": [
            "Epoch 31 of 200\n",
            "Generator loss: 2.81507158, Discriminator loss: 0.50403959\n"
          ],
          "name": "stdout"
        },
        {
          "output_type": "stream",
          "text": [
            "118it [00:08, 13.31it/s]                         \n",
            "  2%|▏         | 2/117 [00:00<00:08, 14.15it/s]"
          ],
          "name": "stderr"
        },
        {
          "output_type": "stream",
          "text": [
            "Epoch 32 of 200\n",
            "Generator loss: 3.34985352, Discriminator loss: 0.44685212\n"
          ],
          "name": "stdout"
        },
        {
          "output_type": "stream",
          "text": [
            "118it [00:08, 13.75it/s]\n",
            "  2%|▏         | 2/117 [00:00<00:09, 12.24it/s]"
          ],
          "name": "stderr"
        },
        {
          "output_type": "stream",
          "text": [
            "Epoch 33 of 200\n",
            "Generator loss: 3.32765150, Discriminator loss: 0.45655996\n"
          ],
          "name": "stdout"
        },
        {
          "output_type": "stream",
          "text": [
            "118it [00:08, 13.99it/s]                         \n",
            "  2%|▏         | 2/117 [00:00<00:07, 15.34it/s]"
          ],
          "name": "stderr"
        },
        {
          "output_type": "stream",
          "text": [
            "Epoch 34 of 200\n",
            "Generator loss: 3.12265563, Discriminator loss: 0.48548010\n"
          ],
          "name": "stdout"
        },
        {
          "output_type": "stream",
          "text": [
            "118it [00:08, 14.09it/s]\n",
            "  2%|▏         | 2/117 [00:00<00:09, 11.80it/s]"
          ],
          "name": "stderr"
        },
        {
          "output_type": "stream",
          "text": [
            "Epoch 35 of 200\n",
            "Generator loss: 3.13709927, Discriminator loss: 0.43434909\n"
          ],
          "name": "stdout"
        },
        {
          "output_type": "stream",
          "text": [
            "118it [00:08, 13.80it/s]                         \n",
            "  2%|▏         | 2/117 [00:00<00:08, 13.30it/s]"
          ],
          "name": "stderr"
        },
        {
          "output_type": "stream",
          "text": [
            "Epoch 36 of 200\n",
            "Generator loss: 3.42913413, Discriminator loss: 0.38659513\n"
          ],
          "name": "stdout"
        },
        {
          "output_type": "stream",
          "text": [
            "118it [00:08, 14.25it/s]                         \n",
            "  2%|▏         | 2/117 [00:00<00:07, 14.47it/s]"
          ],
          "name": "stderr"
        },
        {
          "output_type": "stream",
          "text": [
            "Epoch 37 of 200\n",
            "Generator loss: 3.72886014, Discriminator loss: 0.40174219\n"
          ],
          "name": "stdout"
        },
        {
          "output_type": "stream",
          "text": [
            "118it [00:08, 14.27it/s]                         \n",
            "  2%|▏         | 2/117 [00:00<00:07, 14.70it/s]"
          ],
          "name": "stderr"
        },
        {
          "output_type": "stream",
          "text": [
            "Epoch 38 of 200\n",
            "Generator loss: 3.22232890, Discriminator loss: 0.44459721\n"
          ],
          "name": "stdout"
        },
        {
          "output_type": "stream",
          "text": [
            "118it [00:08, 13.50it/s]\n",
            "  2%|▏         | 2/117 [00:00<00:08, 13.01it/s]"
          ],
          "name": "stderr"
        },
        {
          "output_type": "stream",
          "text": [
            "Epoch 39 of 200\n",
            "Generator loss: 3.27821136, Discriminator loss: 0.37302551\n"
          ],
          "name": "stdout"
        },
        {
          "output_type": "stream",
          "text": [
            "118it [00:08, 14.14it/s]                         \n",
            "  2%|▏         | 2/117 [00:00<00:08, 13.31it/s]"
          ],
          "name": "stderr"
        },
        {
          "output_type": "stream",
          "text": [
            "Epoch 40 of 200\n",
            "Generator loss: 3.20938659, Discriminator loss: 0.43481630\n"
          ],
          "name": "stdout"
        },
        {
          "output_type": "stream",
          "text": [
            "118it [00:08, 13.62it/s]                         \n",
            "  2%|▏         | 2/117 [00:00<00:07, 15.10it/s]"
          ],
          "name": "stderr"
        },
        {
          "output_type": "stream",
          "text": [
            "Epoch 41 of 200\n",
            "Generator loss: 3.16880202, Discriminator loss: 0.46122247\n"
          ],
          "name": "stdout"
        },
        {
          "output_type": "stream",
          "text": [
            "118it [00:08, 13.91it/s]                         \n",
            "  2%|▏         | 2/117 [00:00<00:07, 14.69it/s]"
          ],
          "name": "stderr"
        },
        {
          "output_type": "stream",
          "text": [
            "Epoch 42 of 200\n",
            "Generator loss: 3.04753399, Discriminator loss: 0.45639232\n"
          ],
          "name": "stdout"
        },
        {
          "output_type": "stream",
          "text": [
            "118it [00:08, 14.04it/s]                         \n",
            "  2%|▏         | 2/117 [00:00<00:08, 13.47it/s]"
          ],
          "name": "stderr"
        },
        {
          "output_type": "stream",
          "text": [
            "Epoch 43 of 200\n",
            "Generator loss: 2.95725775, Discriminator loss: 0.53199953\n"
          ],
          "name": "stdout"
        },
        {
          "output_type": "stream",
          "text": [
            "118it [00:08, 14.30it/s]                         \n",
            "  2%|▏         | 2/117 [00:00<00:08, 13.76it/s]"
          ],
          "name": "stderr"
        },
        {
          "output_type": "stream",
          "text": [
            "Epoch 44 of 200\n",
            "Generator loss: 3.03153372, Discriminator loss: 0.51941168\n"
          ],
          "name": "stdout"
        },
        {
          "output_type": "stream",
          "text": [
            "118it [00:08, 13.91it/s]                         \n",
            "  2%|▏         | 2/117 [00:00<00:09, 12.09it/s]"
          ],
          "name": "stderr"
        },
        {
          "output_type": "stream",
          "text": [
            "Epoch 45 of 200\n",
            "Generator loss: 2.91604185, Discriminator loss: 0.45534581\n"
          ],
          "name": "stdout"
        },
        {
          "output_type": "stream",
          "text": [
            "118it [00:08, 14.35it/s]\n",
            "  2%|▏         | 2/117 [00:00<00:08, 13.23it/s]"
          ],
          "name": "stderr"
        },
        {
          "output_type": "stream",
          "text": [
            "Epoch 46 of 200\n",
            "Generator loss: 2.93281555, Discriminator loss: 0.47196627\n"
          ],
          "name": "stdout"
        },
        {
          "output_type": "stream",
          "text": [
            "118it [00:08, 13.52it/s]                         \n",
            "  2%|▏         | 2/117 [00:00<00:07, 14.59it/s]"
          ],
          "name": "stderr"
        },
        {
          "output_type": "stream",
          "text": [
            "Epoch 47 of 200\n",
            "Generator loss: 2.90751696, Discriminator loss: 0.50359607\n"
          ],
          "name": "stdout"
        },
        {
          "output_type": "stream",
          "text": [
            "118it [00:08, 14.25it/s]                         \n",
            "  2%|▏         | 2/117 [00:00<00:08, 14.33it/s]"
          ],
          "name": "stderr"
        },
        {
          "output_type": "stream",
          "text": [
            "Epoch 48 of 200\n",
            "Generator loss: 2.85018182, Discriminator loss: 0.51256967\n"
          ],
          "name": "stdout"
        },
        {
          "output_type": "stream",
          "text": [
            "118it [00:08, 14.11it/s]                         \n",
            "  2%|▏         | 2/117 [00:00<00:07, 14.56it/s]"
          ],
          "name": "stderr"
        },
        {
          "output_type": "stream",
          "text": [
            "Epoch 49 of 200\n",
            "Generator loss: 2.88935852, Discriminator loss: 0.55223888\n"
          ],
          "name": "stdout"
        },
        {
          "output_type": "stream",
          "text": [
            "118it [00:08, 13.88it/s]\n",
            "  2%|▏         | 2/117 [00:00<00:09, 11.53it/s]"
          ],
          "name": "stderr"
        },
        {
          "output_type": "stream",
          "text": [
            "Epoch 50 of 200\n",
            "Generator loss: 2.84301233, Discriminator loss: 0.51168561\n"
          ],
          "name": "stdout"
        },
        {
          "output_type": "stream",
          "text": [
            "118it [00:08, 14.07it/s]                         \n",
            "  2%|▏         | 2/117 [00:00<00:07, 14.77it/s]"
          ],
          "name": "stderr"
        },
        {
          "output_type": "stream",
          "text": [
            "Epoch 51 of 200\n",
            "Generator loss: 2.79955602, Discriminator loss: 0.53815132\n"
          ],
          "name": "stdout"
        },
        {
          "output_type": "stream",
          "text": [
            "118it [00:08, 13.64it/s]                         \n",
            "  2%|▏         | 2/117 [00:00<00:08, 14.21it/s]"
          ],
          "name": "stderr"
        },
        {
          "output_type": "stream",
          "text": [
            "Epoch 52 of 200\n",
            "Generator loss: 2.59452033, Discriminator loss: 0.56933743\n"
          ],
          "name": "stdout"
        },
        {
          "output_type": "stream",
          "text": [
            "118it [00:08, 14.33it/s]                         \n",
            "  2%|▏         | 2/117 [00:00<00:08, 13.79it/s]"
          ],
          "name": "stderr"
        },
        {
          "output_type": "stream",
          "text": [
            "Epoch 53 of 200\n",
            "Generator loss: 2.78919435, Discriminator loss: 0.51687396\n"
          ],
          "name": "stdout"
        },
        {
          "output_type": "stream",
          "text": [
            "118it [00:08, 14.00it/s]                         \n",
            "  2%|▏         | 2/117 [00:00<00:08, 13.93it/s]"
          ],
          "name": "stderr"
        },
        {
          "output_type": "stream",
          "text": [
            "Epoch 54 of 200\n",
            "Generator loss: 2.71652174, Discriminator loss: 0.53780353\n"
          ],
          "name": "stdout"
        },
        {
          "output_type": "stream",
          "text": [
            "118it [00:08, 14.10it/s]\n",
            "  2%|▏         | 2/117 [00:00<00:08, 13.20it/s]"
          ],
          "name": "stderr"
        },
        {
          "output_type": "stream",
          "text": [
            "Epoch 55 of 200\n",
            "Generator loss: 2.76527190, Discriminator loss: 0.55378330\n"
          ],
          "name": "stdout"
        },
        {
          "output_type": "stream",
          "text": [
            "118it [00:08, 13.79it/s]\n",
            "  2%|▏         | 2/117 [00:00<00:08, 14.15it/s]"
          ],
          "name": "stderr"
        },
        {
          "output_type": "stream",
          "text": [
            "Epoch 56 of 200\n",
            "Generator loss: 2.60242701, Discriminator loss: 0.58429056\n"
          ],
          "name": "stdout"
        },
        {
          "output_type": "stream",
          "text": [
            "118it [00:08, 14.05it/s]                         \n",
            "  2%|▏         | 2/117 [00:00<00:08, 13.15it/s]"
          ],
          "name": "stderr"
        },
        {
          "output_type": "stream",
          "text": [
            "Epoch 57 of 200\n",
            "Generator loss: 2.75813460, Discriminator loss: 0.51687342\n"
          ],
          "name": "stdout"
        },
        {
          "output_type": "stream",
          "text": [
            "118it [00:08, 14.48it/s]\n",
            "  2%|▏         | 2/117 [00:00<00:09, 11.87it/s]"
          ],
          "name": "stderr"
        },
        {
          "output_type": "stream",
          "text": [
            "Epoch 58 of 200\n",
            "Generator loss: 2.74400663, Discriminator loss: 0.53774768\n"
          ],
          "name": "stdout"
        },
        {
          "output_type": "stream",
          "text": [
            "118it [00:08, 13.71it/s]                         \n",
            "  2%|▏         | 2/117 [00:00<00:08, 12.88it/s]"
          ],
          "name": "stderr"
        },
        {
          "output_type": "stream",
          "text": [
            "Epoch 59 of 200\n",
            "Generator loss: 2.72004509, Discriminator loss: 0.53772634\n"
          ],
          "name": "stdout"
        },
        {
          "output_type": "stream",
          "text": [
            "118it [00:08, 13.89it/s]                         \n",
            "  2%|▏         | 2/117 [00:00<00:07, 14.88it/s]"
          ],
          "name": "stderr"
        },
        {
          "output_type": "stream",
          "text": [
            "Epoch 60 of 200\n",
            "Generator loss: 2.71291924, Discriminator loss: 0.53702444\n"
          ],
          "name": "stdout"
        },
        {
          "output_type": "stream",
          "text": [
            "118it [00:08, 14.00it/s]                         \n",
            "  2%|▏         | 2/117 [00:00<00:08, 14.09it/s]"
          ],
          "name": "stderr"
        },
        {
          "output_type": "stream",
          "text": [
            "Epoch 61 of 200\n",
            "Generator loss: 2.66907716, Discriminator loss: 0.55045193\n"
          ],
          "name": "stdout"
        },
        {
          "output_type": "stream",
          "text": [
            "118it [00:08, 14.03it/s]                         \n",
            "  2%|▏         | 2/117 [00:00<00:08, 14.27it/s]"
          ],
          "name": "stderr"
        },
        {
          "output_type": "stream",
          "text": [
            "Epoch 62 of 200\n",
            "Generator loss: 2.69983864, Discriminator loss: 0.55927318\n"
          ],
          "name": "stdout"
        },
        {
          "output_type": "stream",
          "text": [
            "118it [00:08, 14.15it/s]\n",
            "  2%|▏         | 2/117 [00:00<00:09, 12.50it/s]"
          ],
          "name": "stderr"
        },
        {
          "output_type": "stream",
          "text": [
            "Epoch 63 of 200\n",
            "Generator loss: 2.65069556, Discriminator loss: 0.55850577\n"
          ],
          "name": "stdout"
        },
        {
          "output_type": "stream",
          "text": [
            "118it [00:08, 13.85it/s]                         \n",
            "  2%|▏         | 2/117 [00:00<00:08, 13.88it/s]"
          ],
          "name": "stderr"
        },
        {
          "output_type": "stream",
          "text": [
            "Epoch 64 of 200\n",
            "Generator loss: 2.51741147, Discriminator loss: 0.55803937\n"
          ],
          "name": "stdout"
        },
        {
          "output_type": "stream",
          "text": [
            "118it [00:08, 14.07it/s]                         \n",
            "  2%|▏         | 2/117 [00:00<00:07, 14.98it/s]"
          ],
          "name": "stderr"
        },
        {
          "output_type": "stream",
          "text": [
            "Epoch 65 of 200\n",
            "Generator loss: 2.53370428, Discriminator loss: 0.56696624\n"
          ],
          "name": "stdout"
        },
        {
          "output_type": "stream",
          "text": [
            "118it [00:08, 14.51it/s]                         \n",
            "  2%|▏         | 2/117 [00:00<00:08, 14.33it/s]"
          ],
          "name": "stderr"
        },
        {
          "output_type": "stream",
          "text": [
            "Epoch 66 of 200\n",
            "Generator loss: 2.41316199, Discriminator loss: 0.64495617\n"
          ],
          "name": "stdout"
        },
        {
          "output_type": "stream",
          "text": [
            "118it [00:08, 14.13it/s]                         \n",
            "  2%|▏         | 2/117 [00:00<00:09, 12.11it/s]"
          ],
          "name": "stderr"
        },
        {
          "output_type": "stream",
          "text": [
            "Epoch 67 of 200\n",
            "Generator loss: 2.48203707, Discriminator loss: 0.60508257\n"
          ],
          "name": "stdout"
        },
        {
          "output_type": "stream",
          "text": [
            "118it [00:08, 13.61it/s]                         \n",
            "  2%|▏         | 2/117 [00:00<00:08, 12.87it/s]"
          ],
          "name": "stderr"
        },
        {
          "output_type": "stream",
          "text": [
            "Epoch 68 of 200\n",
            "Generator loss: 2.53107142, Discriminator loss: 0.61541688\n"
          ],
          "name": "stdout"
        },
        {
          "output_type": "stream",
          "text": [
            "118it [00:08, 14.13it/s]                         \n",
            "  2%|▏         | 2/117 [00:00<00:08, 13.57it/s]"
          ],
          "name": "stderr"
        },
        {
          "output_type": "stream",
          "text": [
            "Epoch 69 of 200\n",
            "Generator loss: 2.53759241, Discriminator loss: 0.62081611\n"
          ],
          "name": "stdout"
        },
        {
          "output_type": "stream",
          "text": [
            "118it [00:08, 14.30it/s]                         \n",
            "  2%|▏         | 2/117 [00:00<00:07, 14.74it/s]"
          ],
          "name": "stderr"
        },
        {
          "output_type": "stream",
          "text": [
            "Epoch 70 of 200\n",
            "Generator loss: 2.30299950, Discriminator loss: 0.63743514\n"
          ],
          "name": "stdout"
        },
        {
          "output_type": "stream",
          "text": [
            "118it [00:08, 14.28it/s]                         \n",
            "  2%|▏         | 2/117 [00:00<00:07, 14.91it/s]"
          ],
          "name": "stderr"
        },
        {
          "output_type": "stream",
          "text": [
            "Epoch 71 of 200\n",
            "Generator loss: 2.37298679, Discriminator loss: 0.61251950\n"
          ],
          "name": "stdout"
        },
        {
          "output_type": "stream",
          "text": [
            "118it [00:08, 14.31it/s]                         \n",
            "  2%|▏         | 2/117 [00:00<00:07, 14.60it/s]"
          ],
          "name": "stderr"
        },
        {
          "output_type": "stream",
          "text": [
            "Epoch 72 of 200\n",
            "Generator loss: 2.37824297, Discriminator loss: 0.64549190\n"
          ],
          "name": "stdout"
        },
        {
          "output_type": "stream",
          "text": [
            "118it [00:08, 13.78it/s]                         \n",
            "  2%|▏         | 2/117 [00:00<00:09, 12.00it/s]"
          ],
          "name": "stderr"
        },
        {
          "output_type": "stream",
          "text": [
            "Epoch 73 of 200\n",
            "Generator loss: 2.35254908, Discriminator loss: 0.67920554\n"
          ],
          "name": "stdout"
        },
        {
          "output_type": "stream",
          "text": [
            "118it [00:08, 13.36it/s]\n",
            "  1%|          | 1/117 [00:00<00:11,  9.81it/s]"
          ],
          "name": "stderr"
        },
        {
          "output_type": "stream",
          "text": [
            "Epoch 74 of 200\n",
            "Generator loss: 2.29289508, Discriminator loss: 0.71095514\n"
          ],
          "name": "stdout"
        },
        {
          "output_type": "stream",
          "text": [
            "118it [00:08, 14.07it/s]                         \n",
            "  2%|▏         | 2/117 [00:00<00:07, 14.81it/s]"
          ],
          "name": "stderr"
        },
        {
          "output_type": "stream",
          "text": [
            "Epoch 75 of 200\n",
            "Generator loss: 2.41518044, Discriminator loss: 0.64974523\n"
          ],
          "name": "stdout"
        },
        {
          "output_type": "stream",
          "text": [
            "118it [00:08, 14.22it/s]                         \n",
            "  2%|▏         | 2/117 [00:00<00:10, 11.40it/s]"
          ],
          "name": "stderr"
        },
        {
          "output_type": "stream",
          "text": [
            "Epoch 76 of 200\n",
            "Generator loss: 2.32690406, Discriminator loss: 0.64250177\n"
          ],
          "name": "stdout"
        },
        {
          "output_type": "stream",
          "text": [
            "118it [00:08, 13.93it/s]\n",
            "  2%|▏         | 2/117 [00:00<00:09, 12.03it/s]"
          ],
          "name": "stderr"
        },
        {
          "output_type": "stream",
          "text": [
            "Epoch 77 of 200\n",
            "Generator loss: 2.48620415, Discriminator loss: 0.64452392\n"
          ],
          "name": "stdout"
        },
        {
          "output_type": "stream",
          "text": [
            "118it [00:08, 14.29it/s]                         \n",
            "  2%|▏         | 2/117 [00:00<00:08, 13.27it/s]"
          ],
          "name": "stderr"
        },
        {
          "output_type": "stream",
          "text": [
            "Epoch 78 of 200\n",
            "Generator loss: 2.38548255, Discriminator loss: 0.67230964\n"
          ],
          "name": "stdout"
        },
        {
          "output_type": "stream",
          "text": [
            "118it [00:08, 14.29it/s]\n",
            "  2%|▏         | 2/117 [00:00<00:07, 14.96it/s]"
          ],
          "name": "stderr"
        },
        {
          "output_type": "stream",
          "text": [
            "Epoch 79 of 200\n",
            "Generator loss: 2.35158873, Discriminator loss: 0.67922157\n"
          ],
          "name": "stdout"
        },
        {
          "output_type": "stream",
          "text": [
            "118it [00:08, 14.02it/s]                         \n",
            "  2%|▏         | 2/117 [00:00<00:08, 14.21it/s]"
          ],
          "name": "stderr"
        },
        {
          "output_type": "stream",
          "text": [
            "Epoch 80 of 200\n",
            "Generator loss: 2.20862269, Discriminator loss: 0.67662317\n"
          ],
          "name": "stdout"
        },
        {
          "output_type": "stream",
          "text": [
            "118it [00:08, 14.04it/s]                         \n",
            "  2%|▏         | 2/117 [00:00<00:08, 14.11it/s]"
          ],
          "name": "stderr"
        },
        {
          "output_type": "stream",
          "text": [
            "Epoch 81 of 200\n",
            "Generator loss: 2.24449968, Discriminator loss: 0.69339377\n"
          ],
          "name": "stdout"
        },
        {
          "output_type": "stream",
          "text": [
            "118it [00:08, 14.18it/s]                         \n",
            "  2%|▏         | 2/117 [00:00<00:07, 14.51it/s]"
          ],
          "name": "stderr"
        },
        {
          "output_type": "stream",
          "text": [
            "Epoch 82 of 200\n",
            "Generator loss: 2.13513613, Discriminator loss: 0.71170115\n"
          ],
          "name": "stdout"
        },
        {
          "output_type": "stream",
          "text": [
            "118it [00:08, 14.13it/s]                         \n",
            "  2%|▏         | 2/117 [00:00<00:07, 14.52it/s]"
          ],
          "name": "stderr"
        },
        {
          "output_type": "stream",
          "text": [
            "Epoch 83 of 200\n",
            "Generator loss: 2.15778661, Discriminator loss: 0.73645002\n"
          ],
          "name": "stdout"
        },
        {
          "output_type": "stream",
          "text": [
            "118it [00:08, 13.75it/s]                         \n",
            "  2%|▏         | 2/117 [00:00<00:07, 15.35it/s]"
          ],
          "name": "stderr"
        },
        {
          "output_type": "stream",
          "text": [
            "Epoch 84 of 200\n",
            "Generator loss: 2.23901463, Discriminator loss: 0.72514814\n"
          ],
          "name": "stdout"
        },
        {
          "output_type": "stream",
          "text": [
            "118it [00:08, 13.74it/s]                         \n",
            "  2%|▏         | 2/117 [00:00<00:09, 11.92it/s]"
          ],
          "name": "stderr"
        },
        {
          "output_type": "stream",
          "text": [
            "Epoch 85 of 200\n",
            "Generator loss: 2.27630782, Discriminator loss: 0.73744512\n"
          ],
          "name": "stdout"
        },
        {
          "output_type": "stream",
          "text": [
            "118it [00:08, 13.80it/s]                         \n",
            "  2%|▏         | 2/117 [00:00<00:08, 14.20it/s]"
          ],
          "name": "stderr"
        },
        {
          "output_type": "stream",
          "text": [
            "Epoch 86 of 200\n",
            "Generator loss: 2.11891484, Discriminator loss: 0.73907477\n"
          ],
          "name": "stdout"
        },
        {
          "output_type": "stream",
          "text": [
            "118it [00:08, 14.14it/s]                         \n",
            "  2%|▏         | 2/117 [00:00<00:08, 13.73it/s]"
          ],
          "name": "stderr"
        },
        {
          "output_type": "stream",
          "text": [
            "Epoch 87 of 200\n",
            "Generator loss: 2.19336653, Discriminator loss: 0.71885407\n"
          ],
          "name": "stdout"
        },
        {
          "output_type": "stream",
          "text": [
            "118it [00:08, 13.77it/s]                         \n",
            "  2%|▏         | 2/117 [00:00<00:08, 14.37it/s]"
          ],
          "name": "stderr"
        },
        {
          "output_type": "stream",
          "text": [
            "Epoch 88 of 200\n",
            "Generator loss: 2.16121006, Discriminator loss: 0.72505611\n"
          ],
          "name": "stdout"
        },
        {
          "output_type": "stream",
          "text": [
            "118it [00:08, 13.92it/s]                         \n",
            "  2%|▏         | 2/117 [00:00<00:07, 14.55it/s]"
          ],
          "name": "stderr"
        },
        {
          "output_type": "stream",
          "text": [
            "Epoch 89 of 200\n",
            "Generator loss: 1.99162757, Discriminator loss: 0.76178342\n"
          ],
          "name": "stdout"
        },
        {
          "output_type": "stream",
          "text": [
            "118it [00:08, 14.41it/s]                         \n",
            "  2%|▏         | 2/117 [00:00<00:10, 11.33it/s]"
          ],
          "name": "stderr"
        },
        {
          "output_type": "stream",
          "text": [
            "Epoch 90 of 200\n",
            "Generator loss: 2.07245708, Discriminator loss: 0.74326992\n"
          ],
          "name": "stdout"
        },
        {
          "output_type": "stream",
          "text": [
            "118it [00:08, 14.05it/s]                         \n",
            "  2%|▏         | 2/117 [00:00<00:08, 12.86it/s]"
          ],
          "name": "stderr"
        },
        {
          "output_type": "stream",
          "text": [
            "Epoch 91 of 200\n",
            "Generator loss: 2.08869863, Discriminator loss: 0.72830451\n"
          ],
          "name": "stdout"
        },
        {
          "output_type": "stream",
          "text": [
            "118it [00:08, 13.78it/s]                         \n",
            "  2%|▏         | 2/117 [00:00<00:07, 14.75it/s]"
          ],
          "name": "stderr"
        },
        {
          "output_type": "stream",
          "text": [
            "Epoch 92 of 200\n",
            "Generator loss: 2.25332308, Discriminator loss: 0.71046847\n"
          ],
          "name": "stdout"
        },
        {
          "output_type": "stream",
          "text": [
            "118it [00:08, 14.43it/s]\n",
            "  2%|▏         | 2/117 [00:00<00:10, 11.11it/s]"
          ],
          "name": "stderr"
        },
        {
          "output_type": "stream",
          "text": [
            "Epoch 93 of 200\n",
            "Generator loss: 2.07746577, Discriminator loss: 0.74820447\n"
          ],
          "name": "stdout"
        },
        {
          "output_type": "stream",
          "text": [
            "118it [00:08, 14.00it/s]                         \n",
            "  2%|▏         | 2/117 [00:00<00:07, 15.21it/s]"
          ],
          "name": "stderr"
        },
        {
          "output_type": "stream",
          "text": [
            "Epoch 94 of 200\n",
            "Generator loss: 2.18079996, Discriminator loss: 0.72689581\n"
          ],
          "name": "stdout"
        },
        {
          "output_type": "stream",
          "text": [
            "118it [00:08, 13.53it/s]                         \n",
            "  2%|▏         | 2/117 [00:00<00:07, 14.45it/s]"
          ],
          "name": "stderr"
        },
        {
          "output_type": "stream",
          "text": [
            "Epoch 95 of 200\n",
            "Generator loss: 2.18383908, Discriminator loss: 0.74436349\n"
          ],
          "name": "stdout"
        },
        {
          "output_type": "stream",
          "text": [
            "118it [00:08, 14.00it/s]                         \n",
            "  2%|▏         | 2/117 [00:00<00:08, 14.12it/s]"
          ],
          "name": "stderr"
        },
        {
          "output_type": "stream",
          "text": [
            "Epoch 96 of 200\n",
            "Generator loss: 2.00204420, Discriminator loss: 0.78534794\n"
          ],
          "name": "stdout"
        },
        {
          "output_type": "stream",
          "text": [
            "118it [00:08, 14.36it/s]                         \n",
            "  2%|▏         | 2/117 [00:00<00:08, 13.64it/s]"
          ],
          "name": "stderr"
        },
        {
          "output_type": "stream",
          "text": [
            "Epoch 97 of 200\n",
            "Generator loss: 1.95935106, Discriminator loss: 0.80108577\n"
          ],
          "name": "stdout"
        },
        {
          "output_type": "stream",
          "text": [
            "118it [00:08, 14.10it/s]                         \n",
            "  2%|▏         | 2/117 [00:00<00:07, 14.48it/s]"
          ],
          "name": "stderr"
        },
        {
          "output_type": "stream",
          "text": [
            "Epoch 98 of 200\n",
            "Generator loss: 2.07869673, Discriminator loss: 0.74614835\n"
          ],
          "name": "stdout"
        },
        {
          "output_type": "stream",
          "text": [
            "118it [00:08, 14.13it/s]                         \n",
            "  2%|▏         | 2/117 [00:00<00:08, 14.27it/s]"
          ],
          "name": "stderr"
        },
        {
          "output_type": "stream",
          "text": [
            "Epoch 99 of 200\n",
            "Generator loss: 2.13390350, Discriminator loss: 0.78076625\n"
          ],
          "name": "stdout"
        },
        {
          "output_type": "stream",
          "text": [
            "118it [00:08, 13.60it/s]                         \n",
            "  2%|▏         | 2/117 [00:00<00:07, 15.29it/s]"
          ],
          "name": "stderr"
        },
        {
          "output_type": "stream",
          "text": [
            "Epoch 100 of 200\n",
            "Generator loss: 2.09346962, Discriminator loss: 0.76259631\n"
          ],
          "name": "stdout"
        },
        {
          "output_type": "stream",
          "text": [
            "118it [00:08, 13.85it/s]                         \n",
            "  2%|▏         | 2/117 [00:00<00:09, 12.03it/s]"
          ],
          "name": "stderr"
        },
        {
          "output_type": "stream",
          "text": [
            "Epoch 101 of 200\n",
            "Generator loss: 1.93113303, Discriminator loss: 0.79639184\n"
          ],
          "name": "stdout"
        },
        {
          "output_type": "stream",
          "text": [
            "118it [00:08, 13.56it/s]                         \n",
            "  2%|▏         | 2/117 [00:00<00:09, 12.45it/s]"
          ],
          "name": "stderr"
        },
        {
          "output_type": "stream",
          "text": [
            "Epoch 102 of 200\n",
            "Generator loss: 1.94373584, Discriminator loss: 0.80714273\n"
          ],
          "name": "stdout"
        },
        {
          "output_type": "stream",
          "text": [
            "118it [00:09, 13.06it/s]                         \n",
            "  2%|▏         | 2/117 [00:00<00:08, 13.00it/s]"
          ],
          "name": "stderr"
        },
        {
          "output_type": "stream",
          "text": [
            "Epoch 103 of 200\n",
            "Generator loss: 1.95909667, Discriminator loss: 0.81596214\n"
          ],
          "name": "stdout"
        },
        {
          "output_type": "stream",
          "text": [
            "118it [00:08, 13.31it/s]                         \n",
            "  2%|▏         | 2/117 [00:00<00:09, 12.56it/s]"
          ],
          "name": "stderr"
        },
        {
          "output_type": "stream",
          "text": [
            "Epoch 104 of 200\n",
            "Generator loss: 1.93768382, Discriminator loss: 0.82321107\n"
          ],
          "name": "stdout"
        },
        {
          "output_type": "stream",
          "text": [
            "118it [00:08, 14.06it/s]                         \n",
            "  2%|▏         | 2/117 [00:00<00:08, 12.99it/s]"
          ],
          "name": "stderr"
        },
        {
          "output_type": "stream",
          "text": [
            "Epoch 105 of 200\n",
            "Generator loss: 1.74246991, Discriminator loss: 0.87018138\n"
          ],
          "name": "stdout"
        },
        {
          "output_type": "stream",
          "text": [
            "118it [00:08, 14.14it/s]\n",
            "  2%|▏         | 2/117 [00:00<00:08, 12.97it/s]"
          ],
          "name": "stderr"
        },
        {
          "output_type": "stream",
          "text": [
            "Epoch 106 of 200\n",
            "Generator loss: 1.76991487, Discriminator loss: 0.84997731\n"
          ],
          "name": "stdout"
        },
        {
          "output_type": "stream",
          "text": [
            "118it [00:08, 13.68it/s]                         \n",
            "  2%|▏         | 2/117 [00:00<00:07, 14.69it/s]"
          ],
          "name": "stderr"
        },
        {
          "output_type": "stream",
          "text": [
            "Epoch 107 of 200\n",
            "Generator loss: 1.83700681, Discriminator loss: 0.83399743\n"
          ],
          "name": "stdout"
        },
        {
          "output_type": "stream",
          "text": [
            "118it [00:08, 13.34it/s]                         \n",
            "  2%|▏         | 2/117 [00:00<00:07, 15.16it/s]"
          ],
          "name": "stderr"
        },
        {
          "output_type": "stream",
          "text": [
            "Epoch 108 of 200\n",
            "Generator loss: 1.76156819, Discriminator loss: 0.86643183\n"
          ],
          "name": "stdout"
        },
        {
          "output_type": "stream",
          "text": [
            "118it [00:08, 13.63it/s]                         \n",
            "  2%|▏         | 2/117 [00:00<00:08, 14.09it/s]"
          ],
          "name": "stderr"
        },
        {
          "output_type": "stream",
          "text": [
            "Epoch 109 of 200\n",
            "Generator loss: 1.79328787, Discriminator loss: 0.84586269\n"
          ],
          "name": "stdout"
        },
        {
          "output_type": "stream",
          "text": [
            "118it [00:08, 13.95it/s]                         \n",
            "  2%|▏         | 2/117 [00:00<00:07, 14.80it/s]"
          ],
          "name": "stderr"
        },
        {
          "output_type": "stream",
          "text": [
            "Epoch 110 of 200\n",
            "Generator loss: 1.86529064, Discriminator loss: 0.83656681\n"
          ],
          "name": "stdout"
        },
        {
          "output_type": "stream",
          "text": [
            "118it [00:08, 13.73it/s]                         \n",
            "  2%|▏         | 2/117 [00:00<00:08, 14.19it/s]"
          ],
          "name": "stderr"
        },
        {
          "output_type": "stream",
          "text": [
            "Epoch 111 of 200\n",
            "Generator loss: 1.79539692, Discriminator loss: 0.85386544\n"
          ],
          "name": "stdout"
        },
        {
          "output_type": "stream",
          "text": [
            "118it [00:08, 13.97it/s]                         \n",
            "  2%|▏         | 2/117 [00:00<00:07, 15.39it/s]"
          ],
          "name": "stderr"
        },
        {
          "output_type": "stream",
          "text": [
            "Epoch 112 of 200\n",
            "Generator loss: 1.77612233, Discriminator loss: 0.85912275\n"
          ],
          "name": "stdout"
        },
        {
          "output_type": "stream",
          "text": [
            "118it [00:08, 13.71it/s]                         \n",
            "  2%|▏         | 2/117 [00:00<00:08, 14.03it/s]"
          ],
          "name": "stderr"
        },
        {
          "output_type": "stream",
          "text": [
            "Epoch 113 of 200\n",
            "Generator loss: 1.80692589, Discriminator loss: 0.85558850\n"
          ],
          "name": "stdout"
        },
        {
          "output_type": "stream",
          "text": [
            "118it [00:08, 14.02it/s]                         \n",
            "  2%|▏         | 2/117 [00:00<00:09, 12.64it/s]"
          ],
          "name": "stderr"
        },
        {
          "output_type": "stream",
          "text": [
            "Epoch 114 of 200\n",
            "Generator loss: 1.73843861, Discriminator loss: 0.86757731\n"
          ],
          "name": "stdout"
        },
        {
          "output_type": "stream",
          "text": [
            "118it [00:08, 13.85it/s]                         \n",
            "  2%|▏         | 2/117 [00:00<00:07, 14.86it/s]"
          ],
          "name": "stderr"
        },
        {
          "output_type": "stream",
          "text": [
            "Epoch 115 of 200\n",
            "Generator loss: 1.74821460, Discriminator loss: 0.88627970\n"
          ],
          "name": "stdout"
        },
        {
          "output_type": "stream",
          "text": [
            "118it [00:08, 13.64it/s]                         \n",
            "  2%|▏         | 2/117 [00:00<00:07, 14.68it/s]"
          ],
          "name": "stderr"
        },
        {
          "output_type": "stream",
          "text": [
            "Epoch 116 of 200\n",
            "Generator loss: 1.73678184, Discriminator loss: 0.87273788\n"
          ],
          "name": "stdout"
        },
        {
          "output_type": "stream",
          "text": [
            "118it [00:08, 13.95it/s]                         \n",
            "  2%|▏         | 2/117 [00:00<00:08, 14.24it/s]"
          ],
          "name": "stderr"
        },
        {
          "output_type": "stream",
          "text": [
            "Epoch 117 of 200\n",
            "Generator loss: 1.67265356, Discriminator loss: 0.90258062\n"
          ],
          "name": "stdout"
        },
        {
          "output_type": "stream",
          "text": [
            "118it [00:08, 13.60it/s]                         \n",
            "  2%|▏         | 2/117 [00:00<00:08, 13.25it/s]"
          ],
          "name": "stderr"
        },
        {
          "output_type": "stream",
          "text": [
            "Epoch 118 of 200\n",
            "Generator loss: 1.74924052, Discriminator loss: 0.89301687\n"
          ],
          "name": "stdout"
        },
        {
          "output_type": "stream",
          "text": [
            "118it [00:08, 14.17it/s]                         \n",
            "  2%|▏         | 2/117 [00:00<00:09, 11.68it/s]"
          ],
          "name": "stderr"
        },
        {
          "output_type": "stream",
          "text": [
            "Epoch 119 of 200\n",
            "Generator loss: 1.73218930, Discriminator loss: 0.89854109\n"
          ],
          "name": "stdout"
        },
        {
          "output_type": "stream",
          "text": [
            "118it [00:08, 13.27it/s]\n",
            "  2%|▏         | 2/117 [00:00<00:08, 13.35it/s]"
          ],
          "name": "stderr"
        },
        {
          "output_type": "stream",
          "text": [
            "Epoch 120 of 200\n",
            "Generator loss: 1.77027893, Discriminator loss: 0.87212598\n"
          ],
          "name": "stdout"
        },
        {
          "output_type": "stream",
          "text": [
            "118it [00:08, 14.29it/s]\n",
            "  2%|▏         | 2/117 [00:00<00:08, 14.35it/s]"
          ],
          "name": "stderr"
        },
        {
          "output_type": "stream",
          "text": [
            "Epoch 121 of 200\n",
            "Generator loss: 1.61214137, Discriminator loss: 0.91601217\n"
          ],
          "name": "stdout"
        },
        {
          "output_type": "stream",
          "text": [
            "118it [00:08, 13.53it/s]                         \n",
            "  2%|▏         | 2/117 [00:00<00:07, 15.59it/s]"
          ],
          "name": "stderr"
        },
        {
          "output_type": "stream",
          "text": [
            "Epoch 122 of 200\n",
            "Generator loss: 1.73596144, Discriminator loss: 0.88580316\n"
          ],
          "name": "stdout"
        },
        {
          "output_type": "stream",
          "text": [
            "118it [00:08, 13.55it/s]\n",
            "  2%|▏         | 2/117 [00:00<00:09, 12.22it/s]"
          ],
          "name": "stderr"
        },
        {
          "output_type": "stream",
          "text": [
            "Epoch 123 of 200\n",
            "Generator loss: 1.75126600, Discriminator loss: 0.89869994\n"
          ],
          "name": "stdout"
        },
        {
          "output_type": "stream",
          "text": [
            "118it [00:08, 13.66it/s]                         \n",
            "  2%|▏         | 2/117 [00:00<00:08, 14.09it/s]"
          ],
          "name": "stderr"
        },
        {
          "output_type": "stream",
          "text": [
            "Epoch 124 of 200\n",
            "Generator loss: 1.68239295, Discriminator loss: 0.89430743\n"
          ],
          "name": "stdout"
        },
        {
          "output_type": "stream",
          "text": [
            "118it [00:08, 14.50it/s]                         \n",
            "  2%|▏         | 2/117 [00:00<00:07, 15.41it/s]"
          ],
          "name": "stderr"
        },
        {
          "output_type": "stream",
          "text": [
            "Epoch 125 of 200\n",
            "Generator loss: 1.68135953, Discriminator loss: 0.90273315\n"
          ],
          "name": "stdout"
        },
        {
          "output_type": "stream",
          "text": [
            "118it [00:08, 13.86it/s]\n",
            "  2%|▏         | 2/117 [00:00<00:09, 12.31it/s]"
          ],
          "name": "stderr"
        },
        {
          "output_type": "stream",
          "text": [
            "Epoch 126 of 200\n",
            "Generator loss: 1.64083159, Discriminator loss: 0.91458559\n"
          ],
          "name": "stdout"
        },
        {
          "output_type": "stream",
          "text": [
            "118it [00:08, 14.07it/s]                         \n",
            "  2%|▏         | 2/117 [00:00<00:07, 14.52it/s]"
          ],
          "name": "stderr"
        },
        {
          "output_type": "stream",
          "text": [
            "Epoch 127 of 200\n",
            "Generator loss: 1.63041103, Discriminator loss: 0.93024373\n"
          ],
          "name": "stdout"
        },
        {
          "output_type": "stream",
          "text": [
            "118it [00:08, 13.73it/s]                         \n",
            "  2%|▏         | 2/117 [00:00<00:07, 15.09it/s]"
          ],
          "name": "stderr"
        },
        {
          "output_type": "stream",
          "text": [
            "Epoch 128 of 200\n",
            "Generator loss: 1.72956169, Discriminator loss: 0.90281355\n"
          ],
          "name": "stdout"
        },
        {
          "output_type": "stream",
          "text": [
            "118it [00:08, 14.13it/s]                         \n",
            "  2%|▏         | 2/117 [00:00<00:07, 14.76it/s]"
          ],
          "name": "stderr"
        },
        {
          "output_type": "stream",
          "text": [
            "Epoch 129 of 200\n",
            "Generator loss: 1.62288618, Discriminator loss: 0.93494797\n"
          ],
          "name": "stdout"
        },
        {
          "output_type": "stream",
          "text": [
            "118it [00:08, 14.21it/s]                         \n",
            "  2%|▏         | 2/117 [00:00<00:08, 13.06it/s]"
          ],
          "name": "stderr"
        },
        {
          "output_type": "stream",
          "text": [
            "Epoch 130 of 200\n",
            "Generator loss: 1.69508553, Discriminator loss: 0.90972197\n"
          ],
          "name": "stdout"
        },
        {
          "output_type": "stream",
          "text": [
            "118it [00:08, 13.43it/s]                         \n",
            "  2%|▏         | 2/117 [00:00<00:09, 12.47it/s]"
          ],
          "name": "stderr"
        },
        {
          "output_type": "stream",
          "text": [
            "Epoch 131 of 200\n",
            "Generator loss: 1.63163853, Discriminator loss: 0.92495394\n"
          ],
          "name": "stdout"
        },
        {
          "output_type": "stream",
          "text": [
            "118it [00:08, 13.76it/s]                         \n",
            "  2%|▏         | 2/117 [00:00<00:07, 14.73it/s]"
          ],
          "name": "stderr"
        },
        {
          "output_type": "stream",
          "text": [
            "Epoch 132 of 200\n",
            "Generator loss: 1.74144292, Discriminator loss: 0.90540195\n"
          ],
          "name": "stdout"
        },
        {
          "output_type": "stream",
          "text": [
            "118it [00:08, 13.19it/s]\n",
            "  2%|▏         | 2/117 [00:00<00:08, 13.80it/s]"
          ],
          "name": "stderr"
        },
        {
          "output_type": "stream",
          "text": [
            "Epoch 133 of 200\n",
            "Generator loss: 1.69396031, Discriminator loss: 0.90737885\n"
          ],
          "name": "stdout"
        },
        {
          "output_type": "stream",
          "text": [
            "118it [00:08, 13.52it/s]                         \n",
            "  2%|▏         | 2/117 [00:00<00:08, 13.04it/s]"
          ],
          "name": "stderr"
        },
        {
          "output_type": "stream",
          "text": [
            "Epoch 134 of 200\n",
            "Generator loss: 1.65904319, Discriminator loss: 0.93658596\n"
          ],
          "name": "stdout"
        },
        {
          "output_type": "stream",
          "text": [
            "118it [00:08, 14.32it/s]                         \n",
            "  2%|▏         | 2/117 [00:00<00:09, 12.70it/s]"
          ],
          "name": "stderr"
        },
        {
          "output_type": "stream",
          "text": [
            "Epoch 135 of 200\n",
            "Generator loss: 1.59629929, Discriminator loss: 0.92463052\n"
          ],
          "name": "stdout"
        },
        {
          "output_type": "stream",
          "text": [
            "118it [00:08, 13.98it/s]                         \n",
            "  2%|▏         | 2/117 [00:00<00:08, 13.76it/s]"
          ],
          "name": "stderr"
        },
        {
          "output_type": "stream",
          "text": [
            "Epoch 136 of 200\n",
            "Generator loss: 1.62184465, Discriminator loss: 0.92489338\n"
          ],
          "name": "stdout"
        },
        {
          "output_type": "stream",
          "text": [
            "118it [00:08, 13.67it/s]\n",
            "  2%|▏         | 2/117 [00:00<00:08, 13.03it/s]"
          ],
          "name": "stderr"
        },
        {
          "output_type": "stream",
          "text": [
            "Epoch 137 of 200\n",
            "Generator loss: 1.56972849, Discriminator loss: 0.96125787\n"
          ],
          "name": "stdout"
        },
        {
          "output_type": "stream",
          "text": [
            "118it [00:08, 13.19it/s]\n",
            "  2%|▏         | 2/117 [00:00<00:07, 14.84it/s]"
          ],
          "name": "stderr"
        },
        {
          "output_type": "stream",
          "text": [
            "Epoch 138 of 200\n",
            "Generator loss: 1.55237424, Discriminator loss: 0.98192221\n"
          ],
          "name": "stdout"
        },
        {
          "output_type": "stream",
          "text": [
            "118it [00:08, 13.59it/s]\n",
            "  2%|▏         | 2/117 [00:00<00:08, 13.99it/s]"
          ],
          "name": "stderr"
        },
        {
          "output_type": "stream",
          "text": [
            "Epoch 139 of 200\n",
            "Generator loss: 1.55096328, Discriminator loss: 0.95847797\n"
          ],
          "name": "stdout"
        },
        {
          "output_type": "stream",
          "text": [
            "118it [00:08, 13.35it/s]                         \n",
            "  2%|▏         | 2/117 [00:00<00:09, 12.72it/s]"
          ],
          "name": "stderr"
        },
        {
          "output_type": "stream",
          "text": [
            "Epoch 140 of 200\n",
            "Generator loss: 1.53262389, Discriminator loss: 0.95737404\n"
          ],
          "name": "stdout"
        },
        {
          "output_type": "stream",
          "text": [
            "118it [00:08, 14.26it/s]                         \n",
            "  2%|▏         | 2/117 [00:00<00:07, 15.13it/s]"
          ],
          "name": "stderr"
        },
        {
          "output_type": "stream",
          "text": [
            "Epoch 141 of 200\n",
            "Generator loss: 1.56650257, Discriminator loss: 0.95544600\n"
          ],
          "name": "stdout"
        },
        {
          "output_type": "stream",
          "text": [
            "118it [00:08, 13.86it/s]                         \n",
            "  2%|▏         | 2/117 [00:00<00:08, 13.66it/s]"
          ],
          "name": "stderr"
        },
        {
          "output_type": "stream",
          "text": [
            "Epoch 142 of 200\n",
            "Generator loss: 1.55919850, Discriminator loss: 0.98006165\n"
          ],
          "name": "stdout"
        },
        {
          "output_type": "stream",
          "text": [
            "118it [00:08, 13.58it/s]                         \n",
            "  2%|▏         | 2/117 [00:00<00:07, 14.90it/s]"
          ],
          "name": "stderr"
        },
        {
          "output_type": "stream",
          "text": [
            "Epoch 143 of 200\n",
            "Generator loss: 1.45759225, Discriminator loss: 0.98542148\n"
          ],
          "name": "stdout"
        },
        {
          "output_type": "stream",
          "text": [
            "118it [00:08, 13.79it/s]                         \n",
            "  2%|▏         | 2/117 [00:00<00:08, 13.48it/s]"
          ],
          "name": "stderr"
        },
        {
          "output_type": "stream",
          "text": [
            "Epoch 144 of 200\n",
            "Generator loss: 1.50555658, Discriminator loss: 0.97550172\n"
          ],
          "name": "stdout"
        },
        {
          "output_type": "stream",
          "text": [
            "118it [00:08, 13.92it/s]                         \n",
            "  2%|▏         | 2/117 [00:00<00:08, 13.26it/s]"
          ],
          "name": "stderr"
        },
        {
          "output_type": "stream",
          "text": [
            "Epoch 145 of 200\n",
            "Generator loss: 1.53564310, Discriminator loss: 0.97695512\n"
          ],
          "name": "stdout"
        },
        {
          "output_type": "stream",
          "text": [
            "118it [00:08, 14.15it/s]                         \n",
            "  2%|▏         | 2/117 [00:00<00:07, 14.45it/s]"
          ],
          "name": "stderr"
        },
        {
          "output_type": "stream",
          "text": [
            "Epoch 146 of 200\n",
            "Generator loss: 1.51488364, Discriminator loss: 0.99017137\n"
          ],
          "name": "stdout"
        },
        {
          "output_type": "stream",
          "text": [
            "118it [00:08, 13.98it/s]                         \n",
            "  2%|▏         | 2/117 [00:00<00:07, 15.08it/s]"
          ],
          "name": "stderr"
        },
        {
          "output_type": "stream",
          "text": [
            "Epoch 147 of 200\n",
            "Generator loss: 1.49954438, Discriminator loss: 0.98635834\n"
          ],
          "name": "stdout"
        },
        {
          "output_type": "stream",
          "text": [
            "118it [00:08, 13.91it/s]                         \n",
            "  2%|▏         | 2/117 [00:00<00:08, 13.86it/s]"
          ],
          "name": "stderr"
        },
        {
          "output_type": "stream",
          "text": [
            "Epoch 148 of 200\n",
            "Generator loss: 1.50295758, Discriminator loss: 0.97122496\n"
          ],
          "name": "stdout"
        },
        {
          "output_type": "stream",
          "text": [
            "118it [00:08, 13.80it/s]\n",
            "  2%|▏         | 2/117 [00:00<00:08, 14.21it/s]"
          ],
          "name": "stderr"
        },
        {
          "output_type": "stream",
          "text": [
            "Epoch 149 of 200\n",
            "Generator loss: 1.47466862, Discriminator loss: 0.99016517\n"
          ],
          "name": "stdout"
        },
        {
          "output_type": "stream",
          "text": [
            "118it [00:08, 14.12it/s]                         \n",
            "  2%|▏         | 2/117 [00:00<00:07, 14.86it/s]"
          ],
          "name": "stderr"
        },
        {
          "output_type": "stream",
          "text": [
            "Epoch 150 of 200\n",
            "Generator loss: 1.45819294, Discriminator loss: 1.00203180\n"
          ],
          "name": "stdout"
        },
        {
          "output_type": "stream",
          "text": [
            "118it [00:08, 13.96it/s]                         \n",
            "  2%|▏         | 2/117 [00:00<00:07, 14.65it/s]"
          ],
          "name": "stderr"
        },
        {
          "output_type": "stream",
          "text": [
            "Epoch 151 of 200\n",
            "Generator loss: 1.47681868, Discriminator loss: 0.99245423\n"
          ],
          "name": "stdout"
        },
        {
          "output_type": "stream",
          "text": [
            "118it [00:08, 13.73it/s]                         \n",
            "  2%|▏         | 2/117 [00:00<00:08, 14.08it/s]"
          ],
          "name": "stderr"
        },
        {
          "output_type": "stream",
          "text": [
            "Epoch 152 of 200\n",
            "Generator loss: 1.50285459, Discriminator loss: 1.00827157\n"
          ],
          "name": "stdout"
        },
        {
          "output_type": "stream",
          "text": [
            "118it [00:08, 14.14it/s]                         \n",
            "  2%|▏         | 2/117 [00:00<00:07, 14.55it/s]"
          ],
          "name": "stderr"
        },
        {
          "output_type": "stream",
          "text": [
            "Epoch 153 of 200\n",
            "Generator loss: 1.43553829, Discriminator loss: 1.00504482\n"
          ],
          "name": "stdout"
        },
        {
          "output_type": "stream",
          "text": [
            "118it [00:08, 13.44it/s]                         \n",
            "  2%|▏         | 2/117 [00:00<00:07, 14.47it/s]"
          ],
          "name": "stderr"
        },
        {
          "output_type": "stream",
          "text": [
            "Epoch 154 of 200\n",
            "Generator loss: 1.46505773, Discriminator loss: 0.99723816\n"
          ],
          "name": "stdout"
        },
        {
          "output_type": "stream",
          "text": [
            "118it [00:08, 13.73it/s]                         \n",
            "  2%|▏         | 2/117 [00:00<00:08, 13.15it/s]"
          ],
          "name": "stderr"
        },
        {
          "output_type": "stream",
          "text": [
            "Epoch 155 of 200\n",
            "Generator loss: 1.44540226, Discriminator loss: 0.99738842\n"
          ],
          "name": "stdout"
        },
        {
          "output_type": "stream",
          "text": [
            "118it [00:08, 14.15it/s]                         \n",
            "  2%|▏         | 2/117 [00:00<00:07, 14.65it/s]"
          ],
          "name": "stderr"
        },
        {
          "output_type": "stream",
          "text": [
            "Epoch 156 of 200\n",
            "Generator loss: 1.42652106, Discriminator loss: 1.02505183\n"
          ],
          "name": "stdout"
        },
        {
          "output_type": "stream",
          "text": [
            "118it [00:08, 13.79it/s]                         \n",
            "  2%|▏         | 2/117 [00:00<00:08, 13.01it/s]"
          ],
          "name": "stderr"
        },
        {
          "output_type": "stream",
          "text": [
            "Epoch 157 of 200\n",
            "Generator loss: 1.43598700, Discriminator loss: 1.00578499\n"
          ],
          "name": "stdout"
        },
        {
          "output_type": "stream",
          "text": [
            "118it [00:08, 13.73it/s]\n",
            "  2%|▏         | 2/117 [00:00<00:08, 14.02it/s]"
          ],
          "name": "stderr"
        },
        {
          "output_type": "stream",
          "text": [
            "Epoch 158 of 200\n",
            "Generator loss: 1.42691183, Discriminator loss: 1.00653410\n"
          ],
          "name": "stdout"
        },
        {
          "output_type": "stream",
          "text": [
            "118it [00:08, 13.43it/s]                         \n",
            "  2%|▏         | 2/117 [00:00<00:09, 12.76it/s]"
          ],
          "name": "stderr"
        },
        {
          "output_type": "stream",
          "text": [
            "Epoch 159 of 200\n",
            "Generator loss: 1.49604762, Discriminator loss: 1.00891805\n"
          ],
          "name": "stdout"
        },
        {
          "output_type": "stream",
          "text": [
            "118it [00:08, 14.06it/s]\n",
            "  2%|▏         | 2/117 [00:00<00:07, 14.60it/s]"
          ],
          "name": "stderr"
        },
        {
          "output_type": "stream",
          "text": [
            "Epoch 160 of 200\n",
            "Generator loss: 1.44586802, Discriminator loss: 0.99329996\n"
          ],
          "name": "stdout"
        },
        {
          "output_type": "stream",
          "text": [
            "118it [00:08, 14.07it/s]                         \n",
            "  2%|▏         | 2/117 [00:00<00:08, 14.24it/s]"
          ],
          "name": "stderr"
        },
        {
          "output_type": "stream",
          "text": [
            "Epoch 161 of 200\n",
            "Generator loss: 1.45406520, Discriminator loss: 1.00501168\n"
          ],
          "name": "stdout"
        },
        {
          "output_type": "stream",
          "text": [
            "118it [00:08, 13.75it/s]                         \n",
            "  2%|▏         | 2/117 [00:00<00:08, 13.89it/s]"
          ],
          "name": "stderr"
        },
        {
          "output_type": "stream",
          "text": [
            "Epoch 162 of 200\n",
            "Generator loss: 1.47980821, Discriminator loss: 1.00052178\n"
          ],
          "name": "stdout"
        },
        {
          "output_type": "stream",
          "text": [
            "118it [00:08, 13.57it/s]                         \n",
            "  2%|▏         | 2/117 [00:00<00:08, 13.70it/s]"
          ],
          "name": "stderr"
        },
        {
          "output_type": "stream",
          "text": [
            "Epoch 163 of 200\n",
            "Generator loss: 1.44250011, Discriminator loss: 1.00777280\n"
          ],
          "name": "stdout"
        },
        {
          "output_type": "stream",
          "text": [
            "118it [00:08, 14.38it/s]                         \n",
            "  2%|▏         | 2/117 [00:00<00:07, 15.43it/s]"
          ],
          "name": "stderr"
        },
        {
          "output_type": "stream",
          "text": [
            "Epoch 164 of 200\n",
            "Generator loss: 1.41748786, Discriminator loss: 1.02220392\n"
          ],
          "name": "stdout"
        },
        {
          "output_type": "stream",
          "text": [
            "118it [00:08, 13.92it/s]                         \n",
            "  2%|▏         | 2/117 [00:00<00:07, 14.42it/s]"
          ],
          "name": "stderr"
        },
        {
          "output_type": "stream",
          "text": [
            "Epoch 165 of 200\n",
            "Generator loss: 1.46646774, Discriminator loss: 0.99861687\n"
          ],
          "name": "stdout"
        },
        {
          "output_type": "stream",
          "text": [
            "118it [00:08, 13.68it/s]\n",
            "  2%|▏         | 2/117 [00:00<00:08, 14.35it/s]"
          ],
          "name": "stderr"
        },
        {
          "output_type": "stream",
          "text": [
            "Epoch 166 of 200\n",
            "Generator loss: 1.48954225, Discriminator loss: 0.99883056\n"
          ],
          "name": "stdout"
        },
        {
          "output_type": "stream",
          "text": [
            "118it [00:08, 14.03it/s]\n",
            "  2%|▏         | 2/117 [00:00<00:10, 11.37it/s]"
          ],
          "name": "stderr"
        },
        {
          "output_type": "stream",
          "text": [
            "Epoch 167 of 200\n",
            "Generator loss: 1.44658613, Discriminator loss: 1.03030992\n"
          ],
          "name": "stdout"
        },
        {
          "output_type": "stream",
          "text": [
            "118it [00:08, 13.53it/s]\n",
            "  2%|▏         | 2/117 [00:00<00:09, 11.72it/s]"
          ],
          "name": "stderr"
        },
        {
          "output_type": "stream",
          "text": [
            "Epoch 168 of 200\n",
            "Generator loss: 1.32390511, Discriminator loss: 1.05398154\n"
          ],
          "name": "stdout"
        },
        {
          "output_type": "stream",
          "text": [
            "118it [00:08, 13.66it/s]                         \n",
            "  2%|▏         | 2/117 [00:00<00:07, 14.86it/s]"
          ],
          "name": "stderr"
        },
        {
          "output_type": "stream",
          "text": [
            "Epoch 169 of 200\n",
            "Generator loss: 1.40373421, Discriminator loss: 1.02414560\n"
          ],
          "name": "stdout"
        },
        {
          "output_type": "stream",
          "text": [
            "118it [00:08, 14.25it/s]                         \n",
            "  2%|▏         | 2/117 [00:00<00:07, 14.75it/s]"
          ],
          "name": "stderr"
        },
        {
          "output_type": "stream",
          "text": [
            "Epoch 170 of 200\n",
            "Generator loss: 1.40131092, Discriminator loss: 1.03841078\n"
          ],
          "name": "stdout"
        },
        {
          "output_type": "stream",
          "text": [
            "118it [00:08, 14.12it/s]\n",
            "  2%|▏         | 2/117 [00:00<00:07, 14.49it/s]"
          ],
          "name": "stderr"
        },
        {
          "output_type": "stream",
          "text": [
            "Epoch 171 of 200\n",
            "Generator loss: 1.33443534, Discriminator loss: 1.06702423\n"
          ],
          "name": "stdout"
        },
        {
          "output_type": "stream",
          "text": [
            "118it [00:08, 13.97it/s]                         \n",
            "  2%|▏         | 2/117 [00:00<00:08, 13.14it/s]"
          ],
          "name": "stderr"
        },
        {
          "output_type": "stream",
          "text": [
            "Epoch 172 of 200\n",
            "Generator loss: 1.30217731, Discriminator loss: 1.06056023\n"
          ],
          "name": "stdout"
        },
        {
          "output_type": "stream",
          "text": [
            "118it [00:08, 13.65it/s]                         \n",
            "  2%|▏         | 2/117 [00:00<00:08, 13.25it/s]"
          ],
          "name": "stderr"
        },
        {
          "output_type": "stream",
          "text": [
            "Epoch 173 of 200\n",
            "Generator loss: 1.33152699, Discriminator loss: 1.06607747\n"
          ],
          "name": "stdout"
        },
        {
          "output_type": "stream",
          "text": [
            "118it [00:08, 14.14it/s]                         \n",
            "  1%|          | 1/117 [00:00<00:12,  8.93it/s]"
          ],
          "name": "stderr"
        },
        {
          "output_type": "stream",
          "text": [
            "Epoch 174 of 200\n",
            "Generator loss: 1.34782100, Discriminator loss: 1.05790353\n"
          ],
          "name": "stdout"
        },
        {
          "output_type": "stream",
          "text": [
            "118it [00:08, 13.89it/s]                         \n",
            "  2%|▏         | 2/117 [00:00<00:08, 14.30it/s]"
          ],
          "name": "stderr"
        },
        {
          "output_type": "stream",
          "text": [
            "Epoch 175 of 200\n",
            "Generator loss: 1.41784286, Discriminator loss: 1.03535926\n"
          ],
          "name": "stdout"
        },
        {
          "output_type": "stream",
          "text": [
            "118it [00:08, 14.30it/s]                         \n",
            "  2%|▏         | 2/117 [00:00<00:09, 12.73it/s]"
          ],
          "name": "stderr"
        },
        {
          "output_type": "stream",
          "text": [
            "Epoch 176 of 200\n",
            "Generator loss: 1.35117149, Discriminator loss: 1.05630493\n"
          ],
          "name": "stdout"
        },
        {
          "output_type": "stream",
          "text": [
            "118it [00:08, 13.99it/s]                         \n",
            "  2%|▏         | 2/117 [00:00<00:07, 14.62it/s]"
          ],
          "name": "stderr"
        },
        {
          "output_type": "stream",
          "text": [
            "Epoch 177 of 200\n",
            "Generator loss: 1.33980668, Discriminator loss: 1.06339657\n"
          ],
          "name": "stdout"
        },
        {
          "output_type": "stream",
          "text": [
            "118it [00:08, 13.54it/s]\n",
            "  2%|▏         | 2/117 [00:00<00:08, 13.84it/s]"
          ],
          "name": "stderr"
        },
        {
          "output_type": "stream",
          "text": [
            "Epoch 178 of 200\n",
            "Generator loss: 1.29485774, Discriminator loss: 1.06699741\n"
          ],
          "name": "stdout"
        },
        {
          "output_type": "stream",
          "text": [
            "118it [00:08, 13.28it/s]                         \n",
            "  2%|▏         | 2/117 [00:00<00:09, 11.80it/s]"
          ],
          "name": "stderr"
        },
        {
          "output_type": "stream",
          "text": [
            "Epoch 179 of 200\n",
            "Generator loss: 1.30396700, Discriminator loss: 1.08181667\n"
          ],
          "name": "stdout"
        },
        {
          "output_type": "stream",
          "text": [
            "118it [00:08, 13.73it/s]                         \n",
            "  2%|▏         | 2/117 [00:00<00:08, 13.14it/s]"
          ],
          "name": "stderr"
        },
        {
          "output_type": "stream",
          "text": [
            "Epoch 180 of 200\n",
            "Generator loss: 1.31011391, Discriminator loss: 1.05688274\n"
          ],
          "name": "stdout"
        },
        {
          "output_type": "stream",
          "text": [
            "118it [00:08, 13.79it/s]                         \n",
            "  2%|▏         | 2/117 [00:00<00:08, 12.94it/s]"
          ],
          "name": "stderr"
        },
        {
          "output_type": "stream",
          "text": [
            "Epoch 181 of 200\n",
            "Generator loss: 1.34741127, Discriminator loss: 1.04780889\n"
          ],
          "name": "stdout"
        },
        {
          "output_type": "stream",
          "text": [
            "118it [00:08, 13.88it/s]                         \n",
            "  2%|▏         | 2/117 [00:00<00:08, 13.20it/s]"
          ],
          "name": "stderr"
        },
        {
          "output_type": "stream",
          "text": [
            "Epoch 182 of 200\n",
            "Generator loss: 1.34484875, Discriminator loss: 1.05628693\n"
          ],
          "name": "stdout"
        },
        {
          "output_type": "stream",
          "text": [
            "118it [00:08, 13.86it/s]                         \n",
            "  2%|▏         | 2/117 [00:00<00:07, 14.55it/s]"
          ],
          "name": "stderr"
        },
        {
          "output_type": "stream",
          "text": [
            "Epoch 183 of 200\n",
            "Generator loss: 1.35757732, Discriminator loss: 1.05568683\n"
          ],
          "name": "stdout"
        },
        {
          "output_type": "stream",
          "text": [
            "118it [00:08, 13.46it/s]                         \n",
            "  2%|▏         | 2/117 [00:00<00:09, 12.01it/s]"
          ],
          "name": "stderr"
        },
        {
          "output_type": "stream",
          "text": [
            "Epoch 184 of 200\n",
            "Generator loss: 1.36430037, Discriminator loss: 1.05844879\n"
          ],
          "name": "stdout"
        },
        {
          "output_type": "stream",
          "text": [
            "118it [00:08, 13.88it/s]                         \n",
            "  2%|▏         | 2/117 [00:00<00:07, 14.78it/s]"
          ],
          "name": "stderr"
        },
        {
          "output_type": "stream",
          "text": [
            "Epoch 185 of 200\n",
            "Generator loss: 1.36116433, Discriminator loss: 1.05499232\n"
          ],
          "name": "stdout"
        },
        {
          "output_type": "stream",
          "text": [
            "118it [00:08, 14.25it/s]                         \n",
            "  2%|▏         | 2/117 [00:00<00:08, 13.96it/s]"
          ],
          "name": "stderr"
        },
        {
          "output_type": "stream",
          "text": [
            "Epoch 186 of 200\n",
            "Generator loss: 1.29715097, Discriminator loss: 1.08221114\n"
          ],
          "name": "stdout"
        },
        {
          "output_type": "stream",
          "text": [
            "118it [00:08, 13.42it/s]                         \n",
            "  2%|▏         | 2/117 [00:00<00:07, 14.47it/s]"
          ],
          "name": "stderr"
        },
        {
          "output_type": "stream",
          "text": [
            "Epoch 187 of 200\n",
            "Generator loss: 1.28195572, Discriminator loss: 1.07987976\n"
          ],
          "name": "stdout"
        },
        {
          "output_type": "stream",
          "text": [
            "118it [00:08, 13.38it/s]                         \n",
            "  2%|▏         | 2/117 [00:00<00:07, 14.68it/s]"
          ],
          "name": "stderr"
        },
        {
          "output_type": "stream",
          "text": [
            "Epoch 188 of 200\n",
            "Generator loss: 1.35708833, Discriminator loss: 1.03703880\n"
          ],
          "name": "stdout"
        },
        {
          "output_type": "stream",
          "text": [
            "118it [00:08, 13.59it/s]\n",
            "  2%|▏         | 2/117 [00:00<00:08, 14.09it/s]"
          ],
          "name": "stderr"
        },
        {
          "output_type": "stream",
          "text": [
            "Epoch 189 of 200\n",
            "Generator loss: 1.34439588, Discriminator loss: 1.06227946\n"
          ],
          "name": "stdout"
        },
        {
          "output_type": "stream",
          "text": [
            "118it [00:08, 13.78it/s]                         \n",
            "  2%|▏         | 2/117 [00:00<00:08, 14.37it/s]"
          ],
          "name": "stderr"
        },
        {
          "output_type": "stream",
          "text": [
            "Epoch 190 of 200\n",
            "Generator loss: 1.27348220, Discriminator loss: 1.07666612\n"
          ],
          "name": "stdout"
        },
        {
          "output_type": "stream",
          "text": [
            "118it [00:08, 14.21it/s]                         \n",
            "  2%|▏         | 2/117 [00:00<00:09, 11.99it/s]"
          ],
          "name": "stderr"
        },
        {
          "output_type": "stream",
          "text": [
            "Epoch 191 of 200\n",
            "Generator loss: 1.33664036, Discriminator loss: 1.06410992\n"
          ],
          "name": "stdout"
        },
        {
          "output_type": "stream",
          "text": [
            "118it [00:08, 13.42it/s]\n",
            "  2%|▏         | 2/117 [00:00<00:09, 12.55it/s]"
          ],
          "name": "stderr"
        },
        {
          "output_type": "stream",
          "text": [
            "Epoch 192 of 200\n",
            "Generator loss: 1.30389619, Discriminator loss: 1.07621479\n"
          ],
          "name": "stdout"
        },
        {
          "output_type": "stream",
          "text": [
            "118it [00:08, 13.88it/s]                         \n",
            "  2%|▏         | 2/117 [00:00<00:07, 14.40it/s]"
          ],
          "name": "stderr"
        },
        {
          "output_type": "stream",
          "text": [
            "Epoch 193 of 200\n",
            "Generator loss: 1.24254918, Discriminator loss: 1.11638224\n"
          ],
          "name": "stdout"
        },
        {
          "output_type": "stream",
          "text": [
            "118it [00:08, 13.75it/s]                         \n",
            "  2%|▏         | 2/117 [00:00<00:07, 14.38it/s]"
          ],
          "name": "stderr"
        },
        {
          "output_type": "stream",
          "text": [
            "Epoch 194 of 200\n",
            "Generator loss: 1.26967680, Discriminator loss: 1.08743322\n"
          ],
          "name": "stdout"
        },
        {
          "output_type": "stream",
          "text": [
            "118it [00:08, 14.24it/s]                         \n",
            "  2%|▏         | 2/117 [00:00<00:07, 14.90it/s]"
          ],
          "name": "stderr"
        },
        {
          "output_type": "stream",
          "text": [
            "Epoch 195 of 200\n",
            "Generator loss: 1.23305702, Discriminator loss: 1.10581851\n"
          ],
          "name": "stdout"
        },
        {
          "output_type": "stream",
          "text": [
            "118it [00:08, 13.98it/s]                         \n",
            "  2%|▏         | 2/117 [00:00<00:07, 14.81it/s]"
          ],
          "name": "stderr"
        },
        {
          "output_type": "stream",
          "text": [
            "Epoch 196 of 200\n",
            "Generator loss: 1.27438462, Discriminator loss: 1.08782446\n"
          ],
          "name": "stdout"
        },
        {
          "output_type": "stream",
          "text": [
            "118it [00:08, 13.34it/s]\n",
            "  2%|▏         | 2/117 [00:00<00:08, 14.13it/s]"
          ],
          "name": "stderr"
        },
        {
          "output_type": "stream",
          "text": [
            "Epoch 197 of 200\n",
            "Generator loss: 1.28769732, Discriminator loss: 1.08230650\n"
          ],
          "name": "stdout"
        },
        {
          "output_type": "stream",
          "text": [
            "118it [00:08, 13.23it/s]\n",
            "  2%|▏         | 2/117 [00:00<00:09, 11.89it/s]"
          ],
          "name": "stderr"
        },
        {
          "output_type": "stream",
          "text": [
            "Epoch 198 of 200\n",
            "Generator loss: 1.27506876, Discriminator loss: 1.10855246\n"
          ],
          "name": "stdout"
        },
        {
          "output_type": "stream",
          "text": [
            "118it [00:08, 13.46it/s]                         "
          ],
          "name": "stderr"
        },
        {
          "output_type": "stream",
          "text": [
            "Epoch 199 of 200\n",
            "Generator loss: 1.22868311, Discriminator loss: 1.09689724\n"
          ],
          "name": "stdout"
        },
        {
          "output_type": "stream",
          "text": [
            "\n"
          ],
          "name": "stderr"
        }
      ]
    },
    {
      "cell_type": "code",
      "metadata": {
        "colab": {
          "base_uri": "https://localhost:8080/"
        },
        "id": "0YqU1SetR1o8",
        "outputId": "ff9f3946-73dd-499e-8db6-40449598ab80"
      },
      "source": [
        "print('DONE TRAINING')\n",
        "torch.save(generator.state_dict(), 'outputs/generator.pth')"
      ],
      "execution_count": null,
      "outputs": [
        {
          "output_type": "stream",
          "text": [
            "DONE TRAINING\n"
          ],
          "name": "stdout"
        }
      ]
    },
    {
      "cell_type": "code",
      "metadata": {
        "colab": {
          "base_uri": "https://localhost:8080/",
          "height": 265
        },
        "id": "FykvN0e_ShWo",
        "outputId": "b25d63ec-a4ec-4eee-86b2-0d840288fb8e"
      },
      "source": [
        "# plot and save the generator and discriminator loss\n",
        "plt.figure()\n",
        "plt.plot(losses_g, label='Generator loss')\n",
        "plt.plot(losses_d, label='Discriminator Loss')\n",
        "plt.legend()\n",
        "plt.savefig('outputs/loss.png')"
      ],
      "execution_count": null,
      "outputs": [
        {
          "output_type": "display_data",
          "data": {
            "image/png": "[encoded data removed]",
            "text/plain": [
              "<Figure size 432x288 with 1 Axes>"
            ]
          },
          "metadata": {
            "tags": [],
            "needs_background": "light"
          }
        }
      ]
    }
  ]
}